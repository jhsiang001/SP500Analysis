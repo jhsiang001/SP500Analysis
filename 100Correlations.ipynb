{
 "cells": [
  {
   "cell_type": "code",
   "execution_count": 123,
   "metadata": {},
   "outputs": [],
   "source": [
    "import pandas as pd\n",
    "import math \n",
    "import csv\n",
    "import numpy as np\n",
    "from fredapi import Fred\n",
    "import json\n",
    "import operator\n",
    "import requests\n",
    "import time\n",
    "from ratelimit import limits, sleep_and_retry, RateLimitException"
   ]
  },
  {
   "cell_type": "code",
   "execution_count": 5,
   "metadata": {},
   "outputs": [],
   "source": [
    "fred = Fred(api_key='597d1dc605851d73e7f227041c9dba3c')"
   ]
  },
  {
   "cell_type": "code",
   "execution_count": 13,
   "metadata": {},
   "outputs": [],
   "source": [
    "#function that generates a list of time series IDs from the JSON page for FRED\n",
    "def generateList():\n",
    "    idList = []\n",
    "    for i in range(100):\n",
    "        r = requests.get('https://api.stlouisfed.org/fred/release/series?release_id='+ str(i) +'&api_key=597d1dc605851d73e7f227041c9dba3c&file_type=json')\n",
    "        if 'seriess' in r.json():\n",
    "            x = r.json()['seriess']\n",
    "            for i in range(len(x)):\n",
    "                idList.append(x[i]['id'])\n",
    "    return idList"
   ]
  },
  {
   "cell_type": "code",
   "execution_count": 22,
   "metadata": {},
   "outputs": [],
   "source": [
    "#generating a list for me to use\n",
    "generated = generateList()"
   ]
  },
  {
   "cell_type": "code",
   "execution_count": 21,
   "metadata": {},
   "outputs": [],
   "source": [
    "#using a sleep and retry descriptor to prevent exceeding rate limit\n",
    "@sleep_and_retry\n",
    "def getSeries(id):\n",
    "    return fred.get_series(id)\n"
   ]
  },
  {
   "cell_type": "code",
   "execution_count": 71,
   "metadata": {},
   "outputs": [],
   "source": [
    "#this function will make a list that takes values that only come from the intersection list. \n",
    "def makeList(intersect, ts):\n",
    "    x = []\n",
    "    for i in intersect:\n",
    "        x.append(ts.at[i])\n",
    "    return x"
   ]
  },
  {
   "cell_type": "markdown",
   "metadata": {},
   "source": []
  },
  {
   "cell_type": "code",
   "execution_count": 141,
   "metadata": {},
   "outputs": [],
   "source": [
    "#this function will get datasets that have 100 or more intersecting date times from our generated list\n",
    "#with whatever time series is inputted as 'id'. \n",
    "#IDs will input the generated list\n",
    "#id will input the time series ID that we would like to compare to\n",
    "def correlations100(id, IDs):\n",
    "    compatibleIds = 0\n",
    "    numID = 0\n",
    "    correlations = {}\n",
    "    x = getSeries(id)\n",
    "    while compatibleIds < 100:\n",
    "        y = getSeries(IDs[numID])\n",
    "        intersectSet = set(x.index).intersection(set(y.index))\n",
    "        if len(intersectSet) > 99:\n",
    "            z = sorted(list(intersectSet))\n",
    "            corr = np.corrcoef(makeList(z,x),makeList(z,y))[0][1]\n",
    "            if np.isnan(corr) == False:\n",
    "                correlations[IDs[numID]] = corr\n",
    "                compatibleIds = compatibleIds + 1\n",
    "        numID = numID +1\n",
    "            \n",
    "    return correlations\n",
    "        "
   ]
  },
  {
   "cell_type": "code",
   "execution_count": 142,
   "metadata": {},
   "outputs": [],
   "source": [
    "unsortedDict = correlations100('GDP', generated)\n"
   ]
  },
  {
   "cell_type": "code",
   "execution_count": 125,
   "metadata": {},
   "outputs": [],
   "source": [
    "#sorts my outputted dictionary by value\n",
    "\n",
    "sorted_d = sorted(unsortedDict.items(), key=operator.itemgetter(1))"
   ]
  },
  {
   "cell_type": "code",
   "execution_count": 138,
   "metadata": {},
   "outputs": [
    {
     "data": {
      "text/html": [
       "<div>\n",
       "<style scoped>\n",
       "    .dataframe tbody tr th:only-of-type {\n",
       "        vertical-align: middle;\n",
       "    }\n",
       "\n",
       "    .dataframe tbody tr th {\n",
       "        vertical-align: top;\n",
       "    }\n",
       "\n",
       "    .dataframe thead th {\n",
       "        text-align: right;\n",
       "    }\n",
       "</style>\n",
       "<table border=\"1\" class=\"dataframe\">\n",
       "  <thead>\n",
       "    <tr style=\"text-align: right;\">\n",
       "      <th></th>\n",
       "      <th>ID</th>\n",
       "      <th>Correlation</th>\n",
       "    </tr>\n",
       "  </thead>\n",
       "  <tbody>\n",
       "    <tr>\n",
       "      <th>0</th>\n",
       "      <td>RSDSELD</td>\n",
       "      <td>-0.728782</td>\n",
       "    </tr>\n",
       "    <tr>\n",
       "      <th>1</th>\n",
       "      <td>RSDSELDN</td>\n",
       "      <td>-0.633747</td>\n",
       "    </tr>\n",
       "    <tr>\n",
       "      <th>2</th>\n",
       "      <td>MARTSMPCSM441XUSN</td>\n",
       "      <td>-0.213301</td>\n",
       "    </tr>\n",
       "    <tr>\n",
       "      <th>3</th>\n",
       "      <td>MARTSMPCSM441USN</td>\n",
       "      <td>-0.211170</td>\n",
       "    </tr>\n",
       "    <tr>\n",
       "      <th>4</th>\n",
       "      <td>MARTSMPCSM451USS</td>\n",
       "      <td>-0.167572</td>\n",
       "    </tr>\n",
       "    <tr>\n",
       "      <th>...</th>\n",
       "      <td>...</td>\n",
       "      <td>...</td>\n",
       "    </tr>\n",
       "    <tr>\n",
       "      <th>95</th>\n",
       "      <td>RSHPCSN</td>\n",
       "      <td>0.995603</td>\n",
       "    </tr>\n",
       "    <tr>\n",
       "      <th>96</th>\n",
       "      <td>RSHPCS</td>\n",
       "      <td>0.996331</td>\n",
       "    </tr>\n",
       "    <tr>\n",
       "      <th>97</th>\n",
       "      <td>RSFSXMV</td>\n",
       "      <td>0.997490</td>\n",
       "    </tr>\n",
       "    <tr>\n",
       "      <th>98</th>\n",
       "      <td>MARTSSM44W72USS</td>\n",
       "      <td>0.998976</td>\n",
       "    </tr>\n",
       "    <tr>\n",
       "      <th>99</th>\n",
       "      <td>RETAIL</td>\n",
       "      <td>0.999550</td>\n",
       "    </tr>\n",
       "  </tbody>\n",
       "</table>\n",
       "<p>100 rows × 2 columns</p>\n",
       "</div>"
      ],
      "text/plain": [
       "                   ID  Correlation\n",
       "0             RSDSELD    -0.728782\n",
       "1            RSDSELDN    -0.633747\n",
       "2   MARTSMPCSM441XUSN    -0.213301\n",
       "3    MARTSMPCSM441USN    -0.211170\n",
       "4    MARTSMPCSM451USS    -0.167572\n",
       "..                ...          ...\n",
       "95            RSHPCSN     0.995603\n",
       "96             RSHPCS     0.996331\n",
       "97            RSFSXMV     0.997490\n",
       "98    MARTSSM44W72USS     0.998976\n",
       "99             RETAIL     0.999550\n",
       "\n",
       "[100 rows x 2 columns]"
      ]
     },
     "execution_count": 138,
     "metadata": {},
     "output_type": "execute_result"
    }
   ],
   "source": [
    "# creates dataframe out of my dictionary and renames it to include columns\n",
    "df = pd.DataFrame.from_dict(sorted_d)\n",
    "df2 = df.rename(columns = {0:'ID',1:'Correlation'})\n",
    "df2"
   ]
  },
  {
   "cell_type": "code",
   "execution_count": 140,
   "metadata": {},
   "outputs": [],
   "source": [
    "#converts my dataframe to a csv file in a provided file path.\n",
    "df2.to_csv('/Users/justinhsiang/Desktop/100correlations/correlations to gdp.csv')"
   ]
  }
 ],
 "metadata": {
  "kernelspec": {
   "display_name": "Python 3",
   "language": "python",
   "name": "python3"
  },
  "language_info": {
   "codemirror_mode": {
    "name": "ipython",
    "version": 3
   },
   "file_extension": ".py",
   "mimetype": "text/x-python",
   "name": "python",
   "nbconvert_exporter": "python",
   "pygments_lexer": "ipython3",
   "version": "3.7.6"
  }
 },
 "nbformat": 4,
 "nbformat_minor": 4
}
